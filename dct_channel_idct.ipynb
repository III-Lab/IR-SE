{
 "cells": [
  {
   "cell_type": "code",
   "execution_count": 1,
   "id": "c04f6a70",
   "metadata": {},
   "outputs": [],
   "source": [
    "import numpy as np\n",
    "import os\n",
    "import cv2\n",
    "import torch\n",
    "from squeeze_and_excitation import ChannelSpatialSELayer"
   ]
  },
  {
   "cell_type": "code",
   "execution_count": 2,
   "id": "39ac5c88",
   "metadata": {},
   "outputs": [],
   "source": [
    "images_path = './dataset/images'\n",
    "labels_path = './dataset/labels'\n",
    "\n",
    "img_path = os.path.join(images_path, '1.bmp')\n",
    "image = cv2.imread(img_path)"
   ]
  },
  {
   "cell_type": "code",
   "execution_count": 3,
   "id": "bc97baee",
   "metadata": {},
   "outputs": [
    {
     "data": {
      "text/plain": [
       "dtype('uint8')"
      ]
     },
     "execution_count": 3,
     "metadata": {},
     "output_type": "execute_result"
    }
   ],
   "source": [
    "image.dtype"
   ]
  },
  {
   "cell_type": "code",
   "execution_count": 4,
   "id": "7c819cd6",
   "metadata": {},
   "outputs": [],
   "source": [
    "img = image[:,:,0] \n",
    "\n",
    "img8_8 = np.zeros((8,8,1024), np.float32)       # 创建一个空图像\n",
    "ch = 0\n",
    "for i in range(0, 256, 8):                  # [256,256] -> [8,8,1024]\n",
    "    for j in range(0, 256, 8):\n",
    "        slice_img = img[i:i+8, j:j+8] # [行 列] 从左至右，从上至下\n",
    "        img8_8[:,:,ch] = np.array(slice_img)\n",
    "        ch = ch+1\n",
    "\n",
    "img8_8 = np.float32(img8_8) # 转成float类型才能进行dct变换\n",
    "dct_img = np.zeros_like(img8_8, np.float32) \n",
    "for c in range(1024):       # 遍历每一个通道进行dct变换\n",
    "    dct_img[:,:,c] = cv2.dct(img8_8[:,:,c])"
   ]
  },
  {
   "cell_type": "code",
   "execution_count": 5,
   "id": "1390f283",
   "metadata": {},
   "outputs": [
    {
     "data": {
      "text/plain": [
       "True"
      ]
     },
     "execution_count": 5,
     "metadata": {},
     "output_type": "execute_result"
    }
   ],
   "source": [
    "show_img = np.zeros((256,256), np.float32)\n",
    "ch = 0\n",
    "for i in range(0,256,8):\n",
    "    for j in range(0,256,8):\n",
    "        show_img[i:i+8,j:j+8] =  dct_img[:,:,ch]\n",
    "        ch = ch+1\n",
    "cv2.imwrite(\"./DCT.bmp\",show_img)"
   ]
  },
  {
   "cell_type": "code",
   "execution_count": 5,
   "id": "4d8540ff",
   "metadata": {},
   "outputs": [],
   "source": [
    "fre_img = np.zeros((32,32,64), np.float32)  \n",
    "ch = 0\n",
    "for i in range(8):\n",
    "    for j in range(8):\n",
    "        _temp = np.zeros((32,32),np.float32) \n",
    "        channel_data = dct_img[i, j, :] # 获取相同频率的点集合\n",
    "        for k in range(32):\n",
    "            _temp[:,k] = channel_data[k*32:(k+1)*32] # 从上至下排列像素\n",
    "        fre_img[:, :, ch] = _temp   # 赋值给频率图\n",
    "        ch = ch+1"
   ]
  },
  {
   "cell_type": "code",
   "execution_count": 6,
   "id": "dd33bf5e",
   "metadata": {},
   "outputs": [],
   "source": [
    "fre_img_trans = np.transpose(fre_img, [2, 0, 1]) # 转置\n",
    "fre_img_tensor = torch.from_numpy(fre_img_trans) # numpy -> tensor\n",
    "img_tensor = fre_img_tensor.unsqueeze(0) # add batch dimension torch.Size([1, 64, 32, 32])"
   ]
  },
  {
   "cell_type": "code",
   "execution_count": 7,
   "id": "da980159",
   "metadata": {},
   "outputs": [],
   "source": [
    "csse_layer = ChannelSpatialSELayer(num_channels=64, reduction_ratio=2) # 通道注意力\n",
    "csse_img = csse_layer(img_tensor) "
   ]
  },
  {
   "cell_type": "code",
   "execution_count": 8,
   "id": "1205055d",
   "metadata": {},
   "outputs": [],
   "source": [
    "csse_tensor = csse_img.squeeze()\n",
    "csse_numpy = csse_tensor.detach().numpy()   # tensor -> numpy\n",
    "csse_array = np.transpose(csse_numpy, [1, 2, 0]) # 转置 H W C"
   ]
  },
  {
   "cell_type": "code",
   "execution_count": 9,
   "id": "5381d78e",
   "metadata": {},
   "outputs": [],
   "source": [
    "img8_8 = np.zeros((8,8,1024), np.float32)\n",
    "for ch in range(64):                        # [32,32,64] -> [8,8,1024]\n",
    "    _temp = np.zeros((1024,), np.float32)\n",
    "    ch_data = csse_array[:,:,ch]\n",
    "    for i in range(32):\n",
    "        _temp[i*32:(i+1)*32] = ch_data[:,i]\n",
    "    row = ch//8\n",
    "    col = ch%8\n",
    "    img8_8[row, col, :] = _temp"
   ]
  },
  {
   "cell_type": "code",
   "execution_count": 10,
   "id": "10d2c37b",
   "metadata": {},
   "outputs": [],
   "source": [
    "idct_img = np.zeros((8,8,1024), np.float32)     # idct \n",
    "for c in range(1024):\n",
    "    idct_img[:,:,c] = cv2.idct(img8_8[:,:,c])"
   ]
  },
  {
   "cell_type": "code",
   "execution_count": 11,
   "id": "279995ed",
   "metadata": {},
   "outputs": [],
   "source": [
    "out_img = np.zeros((256,256), np.float32)       # [8,8,1024] -> [256,256]\n",
    "ch = 0\n",
    "for i in range(0,256,8):\n",
    "    for j in range(0,256,8):\n",
    "        out_img[i:i+8,j:j+8] =  idct_img[:,:,ch]\n",
    "        ch = ch+1"
   ]
  },
  {
   "cell_type": "code",
   "execution_count": 14,
   "id": "4e16e7b6",
   "metadata": {},
   "outputs": [
    {
     "data": {
      "text/plain": [
       "True"
      ]
     },
     "execution_count": 14,
     "metadata": {},
     "output_type": "execute_result"
    }
   ],
   "source": [
    "cv2.imwrite(\"./IDCT.bmp\",out_img)"
   ]
  },
  {
   "cell_type": "code",
   "execution_count": 12,
   "id": "5e0ab517",
   "metadata": {},
   "outputs": [],
   "source": [
    "out = np.zeros((256,256,3), np.float32)\n",
    "for i in range(3):\n",
    "    out[:,:,i] = out_img"
   ]
  },
  {
   "cell_type": "code",
   "execution_count": 13,
   "id": "da368a78",
   "metadata": {},
   "outputs": [
    {
     "data": {
      "text/plain": [
       "True"
      ]
     },
     "execution_count": 13,
     "metadata": {},
     "output_type": "execute_result"
    }
   ],
   "source": [
    "cv2.imwrite(\"./out.bmp\",out)"
   ]
  }
 ],
 "metadata": {
  "kernelspec": {
   "display_name": "Python 3",
   "language": "python",
   "name": "python3"
  },
  "language_info": {
   "codemirror_mode": {
    "name": "ipython",
    "version": 3
   },
   "file_extension": ".py",
   "mimetype": "text/x-python",
   "name": "python",
   "nbconvert_exporter": "python",
   "pygments_lexer": "ipython3",
   "version": "3.9.7"
  },
  "vscode": {
   "interpreter": {
    "hash": "47f9601989484f86494e4e063bf62639ab7d7d83edcc015bdef16160522a902f"
   }
  }
 },
 "nbformat": 4,
 "nbformat_minor": 5
}
